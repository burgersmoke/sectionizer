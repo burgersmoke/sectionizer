{
 "cells": [
  {
   "cell_type": "code",
   "execution_count": 1,
   "metadata": {},
   "outputs": [],
   "source": [
    "%load_ext autoreload\n",
    "%autoreload 2"
   ]
  },
  {
   "cell_type": "code",
   "execution_count": 2,
   "metadata": {},
   "outputs": [],
   "source": [
    "import pandas as pd\n",
    "import pymysql\n",
    "import getpass"
   ]
  },
  {
   "cell_type": "code",
   "execution_count": 3,
   "metadata": {},
   "outputs": [
    {
     "name": "stdout",
     "output_type": "stream",
     "text": [
      "Enter password for MIMIC2 database········\n"
     ]
    }
   ],
   "source": [
    "# Let's connect to our database\n",
    "conn = pymysql.connect(host=\"35.233.174.193\",port=3306,\n",
    "                       user=\"jovyan\",passwd=getpass.getpass(\"Enter password for MIMIC2 database\"),\n",
    "                       db='mimic2')"
   ]
  },
  {
   "cell_type": "code",
   "execution_count": 4,
   "metadata": {},
   "outputs": [],
   "source": [
    "df = pd.read_sql(\"\"\"SELECT * FROM noteevents WHERE category = \"DISCHARGE_SUMMARY\"  LIMIT 10;\"\"\", conn)"
   ]
  },
  {
   "cell_type": "code",
   "execution_count": 5,
   "metadata": {},
   "outputs": [
    {
     "data": {
      "text/html": [
       "<div>\n",
       "<style scoped>\n",
       "    .dataframe tbody tr th:only-of-type {\n",
       "        vertical-align: middle;\n",
       "    }\n",
       "\n",
       "    .dataframe tbody tr th {\n",
       "        vertical-align: top;\n",
       "    }\n",
       "\n",
       "    .dataframe thead th {\n",
       "        text-align: right;\n",
       "    }\n",
       "</style>\n",
       "<table border=\"1\" class=\"dataframe\">\n",
       "  <thead>\n",
       "    <tr style=\"text-align: right;\">\n",
       "      <th></th>\n",
       "      <th>subject_id</th>\n",
       "      <th>hadm_id</th>\n",
       "      <th>icustay_id</th>\n",
       "      <th>elemid</th>\n",
       "      <th>charttime</th>\n",
       "      <th>realtime</th>\n",
       "      <th>cgid</th>\n",
       "      <th>correction</th>\n",
       "      <th>cuid</th>\n",
       "      <th>category</th>\n",
       "      <th>title</th>\n",
       "      <th>text</th>\n",
       "      <th>exam_name</th>\n",
       "      <th>patient_info</th>\n",
       "    </tr>\n",
       "  </thead>\n",
       "  <tbody>\n",
       "    <tr>\n",
       "      <th>0</th>\n",
       "      <td>56</td>\n",
       "      <td>28766</td>\n",
       "      <td>None</td>\n",
       "      <td>None</td>\n",
       "      <td>2644-01-17 00:00:00</td>\n",
       "      <td>None</td>\n",
       "      <td>None</td>\n",
       "      <td>None</td>\n",
       "      <td>None</td>\n",
       "      <td>DISCHARGE_SUMMARY</td>\n",
       "      <td>None</td>\n",
       "      <td>\\n \\n \\n \\nAdmission Date:  [**2644-1-17**]   ...</td>\n",
       "      <td>None</td>\n",
       "      <td>None</td>\n",
       "    </tr>\n",
       "    <tr>\n",
       "      <th>1</th>\n",
       "      <td>37</td>\n",
       "      <td>18052</td>\n",
       "      <td>None</td>\n",
       "      <td>None</td>\n",
       "      <td>3264-08-14 00:00:00</td>\n",
       "      <td>None</td>\n",
       "      <td>None</td>\n",
       "      <td>None</td>\n",
       "      <td>None</td>\n",
       "      <td>DISCHARGE_SUMMARY</td>\n",
       "      <td>None</td>\n",
       "      <td>\\n\\n\\nAdmission Date:  [**3264-8-14**]     Dis...</td>\n",
       "      <td>None</td>\n",
       "      <td>None</td>\n",
       "    </tr>\n",
       "    <tr>\n",
       "      <th>2</th>\n",
       "      <td>78</td>\n",
       "      <td>15161</td>\n",
       "      <td>None</td>\n",
       "      <td>None</td>\n",
       "      <td>2778-03-24 00:00:00</td>\n",
       "      <td>None</td>\n",
       "      <td>None</td>\n",
       "      <td>None</td>\n",
       "      <td>None</td>\n",
       "      <td>DISCHARGE_SUMMARY</td>\n",
       "      <td>None</td>\n",
       "      <td>\\n\\nAdmission Date:  [**2778-3-24**]       Dis...</td>\n",
       "      <td>None</td>\n",
       "      <td>None</td>\n",
       "    </tr>\n",
       "    <tr>\n",
       "      <th>3</th>\n",
       "      <td>26</td>\n",
       "      <td>15067</td>\n",
       "      <td>None</td>\n",
       "      <td>None</td>\n",
       "      <td>3079-03-03 00:00:00</td>\n",
       "      <td>None</td>\n",
       "      <td>None</td>\n",
       "      <td>None</td>\n",
       "      <td>None</td>\n",
       "      <td>DISCHARGE_SUMMARY</td>\n",
       "      <td>None</td>\n",
       "      <td>\\n\\nAdmission Date:  [**3079-3-3**]     Discha...</td>\n",
       "      <td>None</td>\n",
       "      <td>None</td>\n",
       "    </tr>\n",
       "    <tr>\n",
       "      <th>4</th>\n",
       "      <td>12</td>\n",
       "      <td>12532</td>\n",
       "      <td>None</td>\n",
       "      <td>None</td>\n",
       "      <td>2875-09-26 00:00:00</td>\n",
       "      <td>None</td>\n",
       "      <td>None</td>\n",
       "      <td>None</td>\n",
       "      <td>None</td>\n",
       "      <td>DISCHARGE_SUMMARY</td>\n",
       "      <td>None</td>\n",
       "      <td>\\n\\n\\nAdmission Date:  [**2875-9-26**]     Dis...</td>\n",
       "      <td>None</td>\n",
       "      <td>None</td>\n",
       "    </tr>\n",
       "  </tbody>\n",
       "</table>\n",
       "</div>"
      ],
      "text/plain": [
       "   subject_id  hadm_id icustay_id elemid            charttime realtime  cgid  \\\n",
       "0          56    28766       None   None  2644-01-17 00:00:00     None  None   \n",
       "1          37    18052       None   None  3264-08-14 00:00:00     None  None   \n",
       "2          78    15161       None   None  2778-03-24 00:00:00     None  None   \n",
       "3          26    15067       None   None  3079-03-03 00:00:00     None  None   \n",
       "4          12    12532       None   None  2875-09-26 00:00:00     None  None   \n",
       "\n",
       "  correction  cuid           category title  \\\n",
       "0       None  None  DISCHARGE_SUMMARY  None   \n",
       "1       None  None  DISCHARGE_SUMMARY  None   \n",
       "2       None  None  DISCHARGE_SUMMARY  None   \n",
       "3       None  None  DISCHARGE_SUMMARY  None   \n",
       "4       None  None  DISCHARGE_SUMMARY  None   \n",
       "\n",
       "                                                text exam_name patient_info  \n",
       "0  \\n \\n \\n \\nAdmission Date:  [**2644-1-17**]   ...      None         None  \n",
       "1  \\n\\n\\nAdmission Date:  [**3264-8-14**]     Dis...      None         None  \n",
       "2  \\n\\nAdmission Date:  [**2778-3-24**]       Dis...      None         None  \n",
       "3  \\n\\nAdmission Date:  [**3079-3-3**]     Discha...      None         None  \n",
       "4  \\n\\n\\nAdmission Date:  [**2875-9-26**]     Dis...      None         None  "
      ]
     },
     "execution_count": 5,
     "metadata": {},
     "output_type": "execute_result"
    }
   ],
   "source": [
    "df.head()"
   ]
  },
  {
   "cell_type": "code",
   "execution_count": 6,
   "metadata": {},
   "outputs": [],
   "source": [
    "texts = df[\"text\"]"
   ]
  },
  {
   "cell_type": "code",
   "execution_count": 7,
   "metadata": {},
   "outputs": [],
   "source": [
    "import json"
   ]
  },
  {
   "cell_type": "code",
   "execution_count": 213,
   "metadata": {},
   "outputs": [],
   "source": [
    "with open(\"../resources/section_patterns.json\") as f:\n",
    "    patterns = json.load(f)"
   ]
  },
  {
   "cell_type": "code",
   "execution_count": 214,
   "metadata": {},
   "outputs": [
    {
     "data": {
      "text/plain": [
       "14"
      ]
     },
     "execution_count": 214,
     "metadata": {},
     "output_type": "execute_result"
    }
   ],
   "source": [
    "len(patterns)"
   ]
  },
  {
   "cell_type": "code",
   "execution_count": 215,
   "metadata": {},
   "outputs": [],
   "source": [
    "import re\n",
    "compiled_patterns = []\n",
    "for name, sect_patterns in patterns.items():\n",
    "    compiled_patterns.append({\"section\": name, \n",
    "                              \"patterns\": [re.compile(pattern, re.IGNORECASE) for pattern in sect_patterns]})"
   ]
  },
  {
   "cell_type": "code",
   "execution_count": 216,
   "metadata": {},
   "outputs": [],
   "source": [
    "class Sectionizer:\n",
    "    def __init__(self):\n",
    "        self.sections = set()\n",
    "        self.patterns = {}\n",
    "    \n",
    "    def add(self, patterns):\n",
    "        for sect_patterns in patterns:\n",
    "            name = sect_patterns[\"section\"]\n",
    "            self.sections.add(name)\n",
    "            self.patterns.setdefault(name, list())\n",
    "            self.patterns[name] += sect_patterns[\"patterns\"]\n",
    "            \n",
    "    def extract_sections(self, text):\n",
    "        matches = []\n",
    "        for name, sect_patterns in self.patterns.items():\n",
    "            for pattern in sect_patterns:\n",
    "                sect_matches = list(pattern.finditer(text))\n",
    "                for match in sect_matches:\n",
    "                    matches.append((name, match))\n",
    "        if len(matches) == 0:\n",
    "            return [(None, text)]\n",
    "        \n",
    "        matches = sorted(matches, key=lambda x: (x[1].start(), 0-x[1].end()))\n",
    "        matches = self._dedup_matches(matches)\n",
    "        \n",
    "        \n",
    "        \n",
    "        sections = []\n",
    "        if matches[0][1].start() != 0:\n",
    "            sections.append((\"UNK\", text[:matches[0][1].start()]))\n",
    "        for i, (name, match) in enumerate(matches):\n",
    "            if i == len(matches) - 1:\n",
    "                sections.append((name, text[match.start():]))\n",
    "            else:\n",
    "                next_match = matches[i+1][1]\n",
    "                sections.append((name, text[match.start():next_match.start()]))\n",
    "            \n",
    "            \n",
    "        \n",
    "        return sections\n",
    "\n",
    "    def _dedup_matches(self, matches):\n",
    "        deduped = []\n",
    "        # TODO: Make this smarter\n",
    "        deduped.append(matches[0])\n",
    "        for i, match in enumerate(matches[1:], start=1):\n",
    "            if not self._overlaps(deduped[-1], match):\n",
    "                deduped.append(match)\n",
    "        return deduped\n",
    "            \n",
    "    def _overlaps(self, a, b):\n",
    "        (_, a) = a\n",
    "        (_, b) = b\n",
    "        if a.start() <= b.start() < a.end():\n",
    "            return True\n",
    "        if b.start() <= a.start() < b.end():\n",
    "            return True"
   ]
  },
  {
   "cell_type": "code",
   "execution_count": 217,
   "metadata": {},
   "outputs": [],
   "source": [
    "sectionizer = Sectionizer()\n",
    "sectionizer.add(compiled_patterns)"
   ]
  },
  {
   "cell_type": "code",
   "execution_count": 218,
   "metadata": {},
   "outputs": [],
   "source": [
    "matches = sectionizer.extract_sections(texts[1])"
   ]
  },
  {
   "cell_type": "code",
   "execution_count": 219,
   "metadata": {
    "scrolled": true
   },
   "outputs": [
    {
     "name": "stdout",
     "output_type": "stream",
     "text": [
      "UNK\n",
      "\n",
      "\n",
      "\n",
      "Admission Date:  [**3264-8-14**]     Discharge Date:  [**3264-8-19**]\n",
      "\n",
      "Date of Birth:   [**3195-9-11**]     Sex:  M\n",
      "\n",
      "Service:  C-MED Gold\n",
      "\n",
      "\n",
      "----------------------------------------\n",
      "\n",
      "Present Illness\n",
      "HISTORY OF PRESENT ILLNESS:  The patient is a 68-year-old\n",
      "gentleman with a significant cardiac history with coronary\n",
      "artery disease (status post coronary artery bypass graft),\n",
      "hypertension, congestive heart failure, hyperlipidemia, and\n",
      "diabetes mellitus who presented with worsening congestive\n",
      "heart failure of several months in duration with new onset\n",
      "chest pressure.\n",
      "\n",
      "The patient was in his usual state of health until three days\n",
      "prior to admission when he began to experience increasing\n",
      "shortness of breath at rest and with exertion. However, the\n",
      "patient was still able to walk his dog for approximately one\n",
      "half of a mile per day.  No paroxysmal nocturnal dyspnea.  No\n",
      "orthopnea.  Minimal bilateral lower extremity edema at\n",
      "baseline.\n",
      "\n",
      "The patient had one episode of 5/10 chest pressure (his\n",
      "anginal equivalent) with exertion three days prior to\n",
      "admission which resolved after one hour.\n",
      "\n",
      "On the day prior to admission, the patient had a second\n",
      "episode of 10/10 chest pressure, substernal, and without\n",
      "radiation.  No associated nausea, vomiting, or palpitations.\n",
      "Mild diaphoresis and lightheadedness.  The patient took one\n",
      "sublingual nitroglycerin, and his pain score went down to\n",
      "7/10, and he presented to the [**Hospital1 47**] Emergency Department for evaluation.\n",
      "\n",
      "In the [**Hospital1 **] Emergency Department, the\n",
      "patient's chest pressure was relieved with aspirin, heparin,\n",
      "nitroglycerin, and Integrilin.  He also received metoprolol\n",
      "intravenously.  He did continue to be short of breath despite\n",
      "receiving 80 mg of Lasix intravenously on arrival.\n",
      "\n",
      "The initial electrocardiogram showed sinus tachycardia with a\n",
      "left bundle-branch block and left atrial abnormality, without\n",
      "any significant changed when compared to the previous tracing\n",
      "of [**3264-2-16**].  His initial creatine kinase was 326\n",
      "with a troponin T of 0.31.\n",
      "\n",
      "Of note, the patient denies fevers or chills.  He has a\n",
      "slight cough with sputum.  He is not on a low diet.  No\n",
      "recent dietary indiscretion.\n",
      "\n",
      "\n",
      "----------------------------------------\n",
      "\n",
      "pmh\n",
      "PAST MEDICAL HISTORY:\n",
      "1.  Coronary artery disease.\n",
      "(a)  Status post coronary artery bypass graft in [**3252**]; left\n",
      "internal mammary artery to left anterior descending artery,\n",
      "saphenous vein graft to right coronary artery, and saphenous\n",
      "vein graft to diagonal.\n",
      "(b)  Persantine MIBI on [**3264-1-29**] demonstrated a\n",
      "dilated left ventricle, partially reversible moderate\n",
      "perfusion defect in the anterior left ventricular wall, with\n",
      "moderate fixed deficits at the septal/inferior walls, global\n",
      "and left ventricular hypokinesis with an ejection fraction of\n",
      "21%.\n",
      "2.  Congestive heart failure; [**State 1194**] Heart Association\n",
      "class II.  An echocardiogram on [**3264-1-25**] with\n",
      "depressed left ventricular systolic function with an ejection\n",
      "fraction of 20%.\n",
      "3.  Insulin-dependent diabetes mellitus.\n",
      "4.  Hypertension.\n",
      "5.  Hyperlipidemia.\n",
      "6.  Onychomycosis.\n",
      "7.  Status post appendectomy.\n",
      "8.  Anemia with leukocytosis.\n",
      "9.  Chronic obstructive pulmonary disease; last pulmonary\n",
      "function tests in [**3264-1-26**] with a mixed\n",
      "obstructive/restrictive deficit.\n",
      "\n",
      "\n",
      "----------------------------------------\n",
      "\n",
      "medication\n",
      "MEDICATIONS ON ADMISSION:\n",
      " 1.  Lisinopril 40 mg by mouth once per day.\n",
      " 2.  Lipitor 20 mg by mouth once per day.\n",
      " 3.  Cardura 2 mg by mouth q.h.s.\n",
      " 4.  Celexa 40 mg by mouth once per day.\n",
      " 5.  Coreg 12.5 mg by mouth q.a.m.\n",
      " 6.  Digoxin 0.25 mg by mouth every day.\n",
      " 7.  Lasix 80 mg by mouth once per day.\n",
      " 8.  Lumigan 0.03% drops q.h.s.\n",
      " 9.  Timoptic 0.25% drops both eyes q.a.m.\n",
      "10.  Excedrin by mouth as needed.\n",
      "11.  NPH insulin 95 units subcutaneously q.a.m. and 90 units\n",
      "subcutaneously at dinner.\n",
      "\n",
      "\n",
      "----------------------------------------\n",
      "\n",
      "family_history\n",
      "FAMILY HISTORY:   Family history was noncontributory for\n",
      "coronary artery disease.\n",
      "\n",
      "\n",
      "----------------------------------------\n",
      "\n",
      "sexual and social history\n",
      "SOCIAL HISTORY:  The patient is a retired painter.  He has\n",
      "been married times 44 years.  He has a 60-pack-year history\n",
      "of tobacco; he quit 15 years ago.  Occasional alcohol use.\n",
      "No intravenous drug use.\n",
      "\n",
      "\n",
      "----------------------------------------\n",
      "\n",
      "Physical Exam\n",
      "PHYSICAL EXAMINATION ON PRESENTATION:  \n",
      "----------------------------------------\n",
      "\n",
      "Physical Exam\n",
      "Physical examination\n",
      "on admission revealed his temperature was 98.4 degrees\n",
      "Fahrenheit, blood pressure was 133/64, his heart rate was\n",
      "107, his respiratory rate went from 40 to 24, and his oxygen\n",
      "saturation was 95% on 2 liters.  In general, an elderly\n",
      "gentleman in no apparent distress.  Head, eyes, ears, nose,\n",
      "and throat examination revealed normocephalic and atraumatic.\n",
      "Pupils were equal, round, and reactive to light and\n",
      "accommodation.   Extraocular movements were intact.  The neck\n",
      "was supple.  No lymphadenopathy.  No thyromegaly.\n",
      "Cardiovascular examination revealed a regular rate.  Normal\n",
      "first heart sounds and second heart sounds.  No murmurs,\n",
      "rubs, clicks, or gallops.  Pulmonary examination revealed\n",
      "decreased breath sounds at the bases bilaterally.  No rales\n",
      "or wheezes.  The abdomen was obese, soft, nontender, and\n",
      "nondistended.  Normal active bowel sounds.  No\n",
      "hepatosplenomegaly or masses.  Extremity examination revealed\n",
      "2+ pitting edema bilaterally to the knees.  Neurologic\n",
      "examination revealed alert and oriented times three.  Cranial\n",
      "nerves II through XII were grossly intact.\n",
      "\n",
      "PERTINENT LABORATORY VALUES ON PRESENTATION:  Initial\n",
      "laboratories revealed creatine kinase was 326, CK/MB was 14,\n",
      "troponin T was 0.25, and MB index was 4.3.  His white blood\n",
      "cell count was 7.8, his hematocrit was 33, and his platelets\n",
      "were 281.  Sodium was 135, potassium was 4.2, chloride was\n",
      "99, bicarbonate was 28, blood urea nitrogen was 24,\n",
      "creatinine was 1.1, and blood glucose was 303.  Prothrombin\n",
      "time was 13.8, partial thromboplastin time was 25.2, and his\n",
      "INR was 1.3.\n",
      "\n",
      "PERTINENT RADIOLOGY/IMAGING:  A chest x-ray demonstrated\n",
      "cardiomegaly with pulmonary vasculature redistribution and a\n",
      "new lingular opacity (pneumonia versus asymmetric pulmonary\n",
      "edema), and a small calcified granuloma in the right upper\n",
      "lobe (as previously demonstrated).\n",
      "\n",
      "BRIEF SUMMARY OF HOSPITAL COURSE BY ISSUE/SYSTEM:  The\n",
      "patient was admitted to the C-MED Service, placed on\n",
      "telemetry, and continued on his outpatient cardiac\n",
      "medications, as well as a nitroglycerin, heparin, and\n",
      "Integrilin drips.\n",
      "\n",
      "1.  CONGESTIVE HEART FAILURE ISSUES:  At baseline, the\n",
      "patient had been on 2 liters nasal cannula of home oxygen.\n",
      "His oxygen requirement remained stable while in house on 3\n",
      "liters nasal cannula.  He was saturating at 97%.\n",
      "\n",
      "An echocardiogram was performed on [**3264-8-14**] which\n",
      "demonstrated an ejection fraction of 20% with global\n",
      "hypokinesis; consistent with prior examination.\n",
      "\n",
      "The patient was continued on digoxin 0.25 mg by mouth once\n",
      "per day and Lasix 80 mg intravenously once per day.  Daily\n",
      "weights and strict ins-and-outs were monitored.  On the day\n",
      "of discharge, the patient no longer had edema of the lower\n",
      "extremities.  He was saturating at 100% on 2 liters with his\n",
      "lungs clear to auscultation bilaterally.\n",
      "\n",
      "2.  CORONARY ARTERY DISEASE ISSUES:  The patient ruled in by\n",
      "enzyme criteria; however, his electrocardiogram continued to\n",
      "be unchanged with a left bundle-branch block at baseline.\n",
      "\n",
      "There was consideration of catheterization during this\n",
      "inpatient stay; however, given the patient's complications\n",
      "with gastrointestinal bleeds, as well as his reluctance to\n",
      "undergo this procedure, this was deferred.\n",
      "\n",
      "The patient underwent a chemical stress MIBI on [**3264-8-19**]; during which time he had no anginal symptoms or\n",
      "interpretable electrocardiogram changes.  By verbal report,\n",
      "the nuclear portion of this study demonstrated fixed defects\n",
      "in the anterior/inferior walls with an ejection fraction of\n",
      "20% and left ventricular cavity enlargement.\n",
      "\n",
      "3.  ANEMIA/GASTROINTESTINAL BLEED ISSUES:  The patient had an\n",
      "episode of melena on the morning of [**3264-8-15**].  He\n",
      "denied bright red blood per rectum, hematemesis,\n",
      "coffee-grounds emesis, nausea, vomiting, or abdominal pain.\n",
      "He had never had symptoms of gastrointestinal bleeding in the\n",
      "past.\n",
      "\n",
      "A nasogastric lavage demonstrated no active upper\n",
      "gastrointestinal bleed, and his vital signs remained stable\n",
      "with a stable hematocrit at 29.8.  Two large-bore intravenous\n",
      "lines were placed, and the patient was transfused a total of\n",
      "three units of packed red blood cells with 80 mg of\n",
      "intravenous Lasix prior to this transfusion.  He was also\n",
      "started on Protonix 40 mg intravenously twice per day.  The\n",
      "Integrilin, heparin, and aspirin were held.\n",
      "\n",
      "A Gastroenterology consultation was obtained, and an\n",
      "esophagogastroduodenoscopy was recommended and performed on\n",
      "the morning of [**3264-8-16**].  This demonstrated gastritis.\n",
      "Nevertheless, due to the patient's gastrointestinal bleeding\n",
      "he was transferred to the Medical Intensive Care Unit because\n",
      "of concern over the initial hematocrit drop from 33 to 26\n",
      "with a question of potential retroperitoneal bleed.\n",
      "\n",
      "On [**3264-8-15**], when he was transferred to the Medical\n",
      "Intensive Care Unit, an abdominal and pelvic computed\n",
      "tomography without contrast was obtained which demonstrated\n",
      "some cholelithiasis without evidence for cholecystitis, and\n",
      "no evidence of retroperitoneal bleed.\n",
      "\n",
      "An anemia workup was continued, and iron studies demonstrated\n",
      "an elevated ferritin and decreased total iron-binding\n",
      "capacity suggesting likely anemia of chronic disease with\n",
      "acute anemia secondary to gastritis superimposed.\n",
      "\n",
      "The patient remained stable and was transferred back to the\n",
      "C-MED Service on the evening of [**3264-8-16**].  For the\n",
      "duration of his inpatient course, the patient's hematocrit\n",
      "remained stable at 32.7, and he did not experience subsequent\n",
      "episodes of melena or hematemesis.\n",
      "\n",
      "Of note, the aspirin, heparin, and Integrilin continued to be\n",
      "held (this contributed to the unwillingness to perform\n",
      "cardiac catheterization during this inpatient stay).\n",
      "\n",
      "4.  PNEUMONIA ISSUES:  On admission chest x-ray, the patient\n",
      "was noted to have a lingular infiltrate that was felt to be\n",
      "new compared to prior studies.  Of note, the patient's white\n",
      "blood cell count was 7.8, but he did spike to 102.3 degrees\n",
      "Fahrenheit on [**3264-8-15**].  Thus, it was felt that the\n",
      "chest x-ray infiltrate was consistent with pneumonia, and he\n",
      "was started on levofloxacin 500 mg once per day for a 10-day\n",
      "course.\n",
      "\n",
      "The patient's chest x-ray gradually improved during his\n",
      "inpatient stay.  On the day of discharge, his temperature was\n",
      "99.6 with a white blood cell count of 13.3.  Of note, his\n",
      "maximum white blood cell count had been 13.9.  The patient\n",
      "had been afebrile for 48 hours prior to discharge.\n",
      "\n",
      "5.  DIABETES MELLITUS ISSUES:  The patient was placed on an\n",
      "insulin sliding-scale with four times per day fingersticks.\n",
      "His glucose remained within normal limits during this\n",
      "hospital course.\n",
      "\n",
      "6.  MENTAL STATUS CHANGE ISSUES:  The patient was minimally\n",
      "agitated during his Medical Intensive Care Unit stay.  It was\n",
      "felt that this was likely baseline dementia with superimposed\n",
      "Intensive Care Unit delirium.  He did have a recent head\n",
      "computed tomography which showed no acute event.\n",
      "\n",
      "Of note, his mental status was much improved upon transfer to\n",
      "the floor.\n",
      "\n",
      "DISCHARGE DISPOSITION:   The patient was discharged on [**3264-8-19**].  His vital signs were stable.  He was saturating at\n",
      "100% on 2 liters nasal cannula.  His creatine kinase levels\n",
      "had been dropping from 187 to 108 with a troponin of 0.31.\n",
      "He was asymptomatic.\n",
      "\n",
      "CONDITION AT DISCHARGE:  Condition on discharge was stable.\n",
      "\n",
      "DISCHARGE \n",
      "----------------------------------------\n",
      "\n",
      "Observation_and_plan\n",
      "DIAGNOSES:\n",
      "1.  Acute non-ST-segment myocardial infarction.\n",
      "2.  Pneumonia.\n",
      "3.  Coronary artery disease.\n",
      "4.  Gastrointestinal bleed.\n",
      "\n",
      "\n",
      "----------------------------------------\n",
      "\n",
      "medication\n",
      "MEDICATIONS ON DISCHARGE:\n",
      "1.  Lipitor 20 mg by mouth once per day.\n",
      "2.  Celexa 20 mg by mouth by mouth twice per day.\n",
      "3.  Doxazosin 2-mg tablets one tablet by mouth once per day.\n",
      "4.  Timolol eyedrops 0.25% one both eyes q.a.m.\n",
      "5.  Levofloxacin 500-mg tablets one tablet by mouth once per\n",
      "day (for a 10-day course with day one being on [**3264-8-15**]).\n",
      "6.  Lisinopril 40 mg by mouth once per day.\n",
      "7.  Digoxin 250-mg tablets one tablet by mouth once per day.\n",
      "8.  Carvedilol 12.5 mg by mouth twice per day.\n",
      "9.  Protonix 40-mg tablets one tablet by mouth twice per day.\n",
      "\n",
      "DISCHARGE INSTRUCTIONS/FOLLOWUP:\n",
      "1.  The patient was instructed to follow up with Dr. [**First Name4 (NamePattern1) **]\n",
      "[**Last Name (NamePattern1) 2054**] in the [**Hospital 463**] Medical Building, suite B, on [**3264-9-3**] at 11 a.m. (telephone number [**Telephone/Fax (1) 2055**]).\n",
      "2.  The patient was instructed to follow up with Dr. [**First Name8 (NamePattern2) 2056**]\n",
      "[**Last Name (NamePattern1) 1971**] in the [**Doctor Last Name **] Building, on [**3264-8-25**] at\n",
      "12:10 p.m. (telephone number [**Telephone/Fax (1) 2057**]).\n",
      "3.  The patient was advised to call 911 or present to the\n",
      "nearest Emergency Department with symptoms of chest pressure,\n",
      "shortness of breath, jaw discomfort, palpitations, or\n",
      "diaphoresis.\n",
      "4.  The patient was advised to resume all outpatient\n",
      "medications; aside from aspirin.\n",
      "\n",
      "\n",
      "\n",
      "\n",
      "\n",
      "\n",
      "                          [**First Name8 (NamePattern2) **] [**Last Name (NamePattern1) **], M.D.  [**MD Number 2058**]\n",
      "\n",
      "Dictated By:[**Last Name (NamePattern1) 2059**]\n",
      "\n",
      "MEDQUIST36\n",
      "\n",
      "D:  [**3264-8-20**]  08:42\n",
      "T:  [**3264-8-21**]  14:08\n",
      "JOB#:  [**Job Number 2060**]\n",
      "\n",
      "cc:[**9-26**]\n",
      "\n",
      "\n",
      "----------------------------------------\n",
      "\n"
     ]
    }
   ],
   "source": [
    "for (sect, sect_text) in matches:\n",
    "    print(sect)\n",
    "    print(sect_text)\n",
    "    print(\"----\"*10)\n",
    "    print()"
   ]
  },
  {
   "cell_type": "code",
   "execution_count": 221,
   "metadata": {
    "scrolled": true
   },
   "outputs": [
    {
     "data": {
      "text/plain": [
       "{'section': 'pmh',\n",
       " 'patterns': [re.compile(r'(past )?medica\\s+(history|hx):',\n",
       "  re.IGNORECASE|re.UNICODE),\n",
       "  re.compile(r'\\bmhx?:', re.IGNORECASE|re.UNICODE),\n",
       "  re.compile(r'\\bmh?:', re.IGNORECASE|re.UNICODE),\n",
       "  re.compile(r'pohx:', re.IGNORECASE|re.UNICODE),\n",
       "  re.compile(r'pmh?:', re.IGNORECASE|re.UNICODE),\n",
       "  re.compile(r'past\\s*history:', re.IGNORECASE|re.UNICODE),\n",
       "  re.compile(r'history:', re.IGNORECASE|re.UNICODE),\n",
       "  re.compile(r'p[hm]+\\s*computerized\\s+problem\\s+list:',\n",
       "  re.IGNORECASE|re.UNICODE),\n",
       "  re.compile(r'significant\\smedical\\shx:', re.IGNORECASE|re.UNICODE),\n",
       "  re.compile(r'past\\smedical\\shistory\\s?\\/\\s?problem list:',\n",
       "  re.IGNORECASE|re.UNICODE),\n",
       "  re.compile(r'Past surgical history:', re.IGNORECASE|re.UNICODE),\n",
       "  re.compile(r'patient_history:', re.IGNORECASE|re.UNICODE),\n",
       "  re.compile(r'patient history:', re.IGNORECASE|re.UNICODE),\n",
       "  re.compile(r'pt history:', re.IGNORECASE|re.UNICODE),\n",
       "  re.compile(r'history/physical examination:', re.IGNORECASE|re.UNICODE),\n",
       "  re.compile(r'history physical examination:', re.IGNORECASE|re.UNICODE),\n",
       "  re.compile(r'clinical history:', re.IGNORECASE|re.UNICODE),\n",
       "  re.compile(r'in clinical history:', re.IGNORECASE|re.UNICODE),\n",
       "  re.compile(r'clinical history/indications:', re.IGNORECASE|re.UNICODE),\n",
       "  re.compile(r'clinical history indication:', re.IGNORECASE|re.UNICODE),\n",
       "  re.compile(r'issues briefly as following:', re.IGNORECASE|re.UNICODE),\n",
       "  re.compile(r'issue briefly as following:', re.IGNORECASE|re.UNICODE),\n",
       "  re.compile(r'history:', re.IGNORECASE|re.UNICODE),\n",
       "  re.compile(r'current medical problems:', re.IGNORECASE|re.UNICODE),\n",
       "  re.compile(r'current medical problem:', re.IGNORECASE|re.UNICODE),\n",
       "  re.compile(r'history of chronic illness:', re.IGNORECASE|re.UNICODE),\n",
       "  re.compile(r'history chronic illness:', re.IGNORECASE|re.UNICODE),\n",
       "  re.compile(r'clinical presentation:', re.IGNORECASE|re.UNICODE),\n",
       "  re.compile(r'issues briefly as follows:', re.IGNORECASE|re.UNICODE),\n",
       "  re.compile(r'issue briefly as follow:', re.IGNORECASE|re.UNICODE),\n",
       "  re.compile(r'interval history:', re.IGNORECASE|re.UNICODE),\n",
       "  re.compile(r'past medical history and review of systems:',\n",
       "  re.IGNORECASE|re.UNICODE),\n",
       "  re.compile(r'past medical history and review of system:',\n",
       "  re.IGNORECASE|re.UNICODE),\n",
       "  re.compile(r'past medical history review system:', re.IGNORECASE|re.UNICODE),\n",
       "  re.compile(r'past medical problems:', re.IGNORECASE|re.UNICODE),\n",
       "  re.compile(r'past medical problem:', re.IGNORECASE|re.UNICODE),\n",
       "  re.compile(r'history of past illness:', re.IGNORECASE|re.UNICODE),\n",
       "  re.compile(r'history past illness:', re.IGNORECASE|re.UNICODE),\n",
       "  re.compile(r'past medical history:', re.IGNORECASE|re.UNICODE),\n",
       "  re.compile(r'previous medical history:', re.IGNORECASE|re.UNICODE),\n",
       "  re.compile(r'hematology/oncology history:', re.IGNORECASE|re.UNICODE),\n",
       "  re.compile(r'hematology oncology history:', re.IGNORECASE|re.UNICODE),\n",
       "  re.compile(r'history of general health:', re.IGNORECASE|re.UNICODE),\n",
       "  re.compile(r'history general health:', re.IGNORECASE|re.UNICODE),\n",
       "  re.compile(r'past medical history/past surgical history:',\n",
       "  re.IGNORECASE|re.UNICODE),\n",
       "  re.compile(r'past medical history past surgical history:',\n",
       "  re.IGNORECASE|re.UNICODE),\n",
       "  re.compile(r'medical problems:', re.IGNORECASE|re.UNICODE),\n",
       "  re.compile(r'medical problem:', re.IGNORECASE|re.UNICODE),\n",
       "  re.compile(r'significant past medical history:', re.IGNORECASE|re.UNICODE),\n",
       "  re.compile(r'history of major illnesses and injuries:',\n",
       "  re.IGNORECASE|re.UNICODE),\n",
       "  re.compile(r'history of major illness and injury:',\n",
       "  re.IGNORECASE|re.UNICODE),\n",
       "  re.compile(r'history major illness injury:', re.IGNORECASE|re.UNICODE),\n",
       "  re.compile(r'past med history:', re.IGNORECASE|re.UNICODE),\n",
       "  re.compile(r'past hospitalization history:', re.IGNORECASE|re.UNICODE),\n",
       "  re.compile(r'medical history:', re.IGNORECASE|re.UNICODE),\n",
       "  re.compile(r'past medical and surgical history:', re.IGNORECASE|re.UNICODE),\n",
       "  re.compile(r'past medical surgical history:', re.IGNORECASE|re.UNICODE),\n",
       "  re.compile(r'brief medical history:', re.IGNORECASE|re.UNICODE),\n",
       "  re.compile(r'Past Medical History/Problem List:', re.IGNORECASE|re.UNICODE),\n",
       "  re.compile(r'past medical history problem list:', re.IGNORECASE|re.UNICODE),\n",
       "  re.compile(r'past medical issues:', re.IGNORECASE|re.UNICODE),\n",
       "  re.compile(r'past medical issue:', re.IGNORECASE|re.UNICODE),\n",
       "  re.compile(r'past_medical_history:', re.IGNORECASE|re.UNICODE),\n",
       "  re.compile(r'past medical history/surgical history:',\n",
       "  re.IGNORECASE|re.UNICODE),\n",
       "  re.compile(r'past medical history surgical history:',\n",
       "  re.IGNORECASE|re.UNICODE),\n",
       "  re.compile(r'past infectious history:', re.IGNORECASE|re.UNICODE),\n",
       "  re.compile(r'past medical history/family history:',\n",
       "  re.IGNORECASE|re.UNICODE),\n",
       "  re.compile(r'past medical history family history:',\n",
       "  re.IGNORECASE|re.UNICODE),\n",
       "  re.compile(r'Known Significant Medical Diagnoses and Conditions:',\n",
       "  re.IGNORECASE|re.UNICODE),\n",
       "  re.compile(r'past history:', re.IGNORECASE|re.UNICODE),\n",
       "  re.compile(r'past medical history and physical examination:',\n",
       "  re.IGNORECASE|re.UNICODE),\n",
       "  re.compile(r'past medical history physical examination:',\n",
       "  re.IGNORECASE|re.UNICODE),\n",
       "  re.compile(r'past medical history/physical examination:',\n",
       "  re.IGNORECASE|re.UNICODE),\n",
       "  re.compile(r'past_medical_history_and_physical_examination:',\n",
       "  re.IGNORECASE|re.UNICODE),\n",
       "  re.compile(r'Historical\\s*data:?', re.IGNORECASE|re.UNICODE)]}"
      ]
     },
     "execution_count": 221,
     "metadata": {},
     "output_type": "execute_result"
    }
   ],
   "source": [
    "compiled_patterns[0]"
   ]
  },
  {
   "cell_type": "code",
   "execution_count": 222,
   "metadata": {},
   "outputs": [
    {
     "name": "stdout",
     "output_type": "stream",
     "text": [
      "pmh <re.Match object; span=(900, 908), match='History:'>\n",
      "pmh <re.Match object; span=(900, 908), match='History:'>\n",
      "pmh <re.Match object; span=(887, 908), match='Past Medical History:'>\n",
      "pmh <re.Match object; span=(892, 908), match='Medical History:'>\n",
      "sexual and social history <re.Match object; span=(980, 995), match='Social History:'>\n",
      "Observation_and_plan <re.Match object; span=(4849, 4859), match='Diagnosis:'>\n",
      "Observation_and_plan <re.Match object; span=(4849, 4859), match='Diagnosis:'>\n",
      "medication <re.Match object; span=(4714, 4736), match='Discharge Medications:'>\n",
      "medication <re.Match object; span=(4724, 4736), match='Medications:'>\n",
      "medication <re.Match object; span=(4645, 4670), match='Medications on Admission:'>\n",
      "medication <re.Match object; span=(4724, 4736), match='Medications:'>\n",
      "allergy <re.Match object; span=(164, 174), match='Allergies:'>\n",
      "allergy <re.Match object; span=(164, 174), match='Allergies:'>\n",
      "Chief complaint <re.Match object; span=(272, 288), match='Chief Complaint:'>\n",
      "Physical Exam <re.Match object; span=(1092, 1097), match='Exam:'>\n",
      "Present Illness <re.Match object; span=(352, 368), match='Present Illness:'>\n",
      "Present Illness <re.Match object; span=(341, 368), match='History of Present Illness:'>\n",
      "pmh <re.Match object; span=(2123, 2131), match='HISTORY:'>\n",
      "pmh <re.Match object; span=(2123, 2131), match='HISTORY:'>\n",
      "pmh <re.Match object; span=(2110, 2131), match='PAST MEDICAL HISTORY:'>\n",
      "pmh <re.Match object; span=(2115, 2131), match='MEDICAL HISTORY:'>\n",
      "family_history <re.Match object; span=(3665, 3680), match='FAMILY HISTORY:'>\n",
      "sexual and social history <re.Match object; span=(3748, 3763), match='SOCIAL HISTORY:'>\n",
      "Observation_and_plan <re.Match object; span=(11246, 11256), match='DIAGNOSES:'>\n",
      "medication <re.Match object; span=(3164, 3189), match='MEDICATIONS ON ADMISSION:'>\n",
      "medication <re.Match object; span=(11378, 11403), match='MEDICATIONS ON DISCHARGE:'>\n",
      "Physical Exam <re.Match object; span=(3952, 3972), match='PHYSICAL EXAMINATION'>\n",
      "Present Illness <re.Match object; span=(153, 169), match='PRESENT ILLNESS:'>\n",
      "Present Illness <re.Match object; span=(142, 169), match='HISTORY OF PRESENT ILLNESS:'>\n",
      "pmh <re.Match object; span=(1893, 1901), match='HISTORY:'>\n",
      "pmh <re.Match object; span=(1893, 1901), match='HISTORY:'>\n",
      "pmh <re.Match object; span=(1880, 1901), match='PAST MEDICAL HISTORY:'>\n",
      "pmh <re.Match object; span=(1885, 1901), match='MEDICAL HISTORY:'>\n",
      "family_history <re.Match object; span=(5379, 5394), match='FAMILY HISTORY:'>\n",
      "sexual and social history <re.Match object; span=(4233, 4248), match='SOCIAL HISTORY:'>\n",
      "Observation_and_plan <re.Match object; span=(26462, 26472), match='DIAGNOSES:'>\n",
      "medication <re.Match object; span=(23368, 23390), match='DISCHARGE MEDICATIONS:'>\n",
      "medication <re.Match object; span=(23378, 23390), match='MEDICATIONS:'>\n",
      "medication <re.Match object; span=(3960, 3991), match='MEDICATIONS PRIOR TO ADMISSION:'>\n",
      "medication <re.Match object; span=(23378, 23390), match='MEDICATIONS:'>\n",
      "allergy <re.Match object; span=(5174, 5184), match='ALLERGIES:'>\n",
      "allergy <re.Match object; span=(5174, 5184), match='ALLERGIES:'>\n",
      "allergy <re.Match object; span=(5202, 5209), match='allergy'>\n",
      "Chief complaint <re.Match object; span=(153, 169), match='CHIEF COMPLAINT:'>\n",
      "Physical Exam <re.Match object; span=(6014, 6034), match='PHYSICAL EXAMINATION'>\n",
      "Present Illness <re.Match object; span=(193, 209), match='PRESENT ILLNESS:'>\n",
      "Present Illness <re.Match object; span=(182, 209), match='HISTORY OF PRESENT ILLNESS:'>\n",
      "pmh <re.Match object; span=(1286, 1294), match='HISTORY:'>\n",
      "pmh <re.Match object; span=(1286, 1294), match='HISTORY:'>\n",
      "pmh <re.Match object; span=(1273, 1294), match='PAST MEDICAL HISTORY:'>\n",
      "pmh <re.Match object; span=(1278, 1294), match='MEDICAL HISTORY:'>\n",
      "sexual and social history <re.Match object; span=(1984, 1999), match='SOCIAL HISTORY:'>\n",
      "Observation_and_plan <re.Match object; span=(6460, 6470), match='DIAGNOSES:'>\n",
      "medication <re.Match object; span=(6532, 6554), match='DISCHARGE MEDICATIONS:'>\n",
      "medication <re.Match object; span=(1723, 1735), match='MEDICATIONS:'>\n",
      "medication <re.Match object; span=(1723, 1735), match='MEDICATIONS:'>\n",
      "allergy <re.Match object; span=(2149, 2159), match='ALLERGIES:'>\n",
      "allergy <re.Match object; span=(2149, 2159), match='ALLERGIES:'>\n",
      "Present Illness <re.Match object; span=(143, 159), match='PRESENT ILLNESS:'>\n",
      "Present Illness <re.Match object; span=(132, 159), match='HISTORY OF PRESENT ILLNESS:'>\n",
      "pmh <re.Match object; span=(915, 923), match='HISTORY:'>\n",
      "pmh <re.Match object; span=(1001, 1023), match='PAST SURGICAL HISTORY:'>\n",
      "pmh <re.Match object; span=(915, 923), match='HISTORY:'>\n",
      "pmh <re.Match object; span=(902, 923), match='PAST MEDICAL HISTORY:'>\n",
      "pmh <re.Match object; span=(907, 923), match='MEDICAL HISTORY:'>\n",
      "medication <re.Match object; span=(1128, 1153), match='MEDICATIONS ON ADMISSION:'>\n",
      "allergy <re.Match object; span=(1345, 1355), match='ALLERGIES:'>\n",
      "allergy <re.Match object; span=(1345, 1355), match='ALLERGIES:'>\n",
      "Physical Exam <re.Match object; span=(1399, 1419), match='PHYSICAL EXAMINATION'>\n",
      "Present Illness <re.Match object; span=(150, 166), match='PRESENT ILLNESS:'>\n",
      "Present Illness <re.Match object; span=(139, 166), match='HISTORY OF PRESENT ILLNESS:'>\n",
      "pmh <re.Match object; span=(1815, 1823), match='History:'>\n",
      "pmh <re.Match object; span=(1815, 1823), match='History:'>\n",
      "pmh <re.Match object; span=(1802, 1823), match='Past Medical History:'>\n",
      "pmh <re.Match object; span=(1807, 1823), match='Medical History:'>\n",
      "family_history <re.Match object; span=(2574, 2589), match='Family History:'>\n",
      "sexual and social history <re.Match object; span=(8272, 8275), match='sh:'>\n",
      "sexual and social history <re.Match object; span=(2361, 2376), match='Social History:'>\n",
      "Observation_and_plan <re.Match object; span=(9302, 9312), match='Diagnosis:'>\n",
      "Observation_and_plan <re.Match object; span=(9302, 9312), match='Diagnosis:'>\n",
      "medication <re.Match object; span=(9009, 9031), match='Discharge Medications:'>\n",
      "medication <re.Match object; span=(9019, 9031), match='Medications:'>\n",
      "medication <re.Match object; span=(9019, 9031), match='Medications:'>\n",
      "allergy <re.Match object; span=(161, 171), match='Allergies:'>\n",
      "allergy <re.Match object; span=(161, 171), match='Allergies:'>\n",
      "Chief complaint <re.Match object; span=(252, 268), match='Chief Complaint:'>\n",
      "Physical Exam <re.Match object; span=(2747, 2752), match='Exam:'>\n",
      "Present Illness <re.Match object; span=(564, 580), match='Present Illness:'>\n",
      "Present Illness <re.Match object; span=(553, 580), match='History of Present Illness:'>\n",
      "pmh <re.Match object; span=(958, 966), match='HISTORY:'>\n",
      "pmh <re.Match object; span=(1064, 1086), match='PAST SURGICAL HISTORY:'>\n",
      "pmh <re.Match object; span=(958, 966), match='HISTORY:'>\n",
      "pmh <re.Match object; span=(945, 966), match='PAST MEDICAL HISTORY:'>\n",
      "pmh <re.Match object; span=(950, 966), match='MEDICAL HISTORY:'>\n",
      "Observation_and_plan <re.Match object; span=(2586, 2606), match='ASSESSMENT AND PLAN:'>\n",
      "Observation_and_plan <re.Match object; span=(2601, 2606), match='PLAN:'>\n",
      "medication <re.Match object; span=(1161, 1173), match='MEDICATIONS:'>\n",
      "medication <re.Match object; span=(1161, 1173), match='MEDICATIONS:'>\n",
      "allergy <re.Match object; span=(1210, 1220), match='ALLERGIES:'>\n",
      "allergy <re.Match object; span=(1210, 1220), match='ALLERGIES:'>\n",
      "Physical Exam <re.Match object; span=(1280, 1300), match='PHYSICAL EXAMINATION'>\n",
      "Present Illness <re.Match object; span=(155, 171), match='PRESENT ILLNESS:'>\n",
      "Present Illness <re.Match object; span=(144, 171), match='HISTORY OF PRESENT ILLNESS:'>\n",
      "pmh <re.Match object; span=(1185, 1193), match='HISTORY:'>\n",
      "pmh <re.Match object; span=(1185, 1193), match='HISTORY:'>\n",
      "pmh <re.Match object; span=(1172, 1193), match='PAST MEDICAL HISTORY:'>\n",
      "pmh <re.Match object; span=(1177, 1193), match='MEDICAL HISTORY:'>\n",
      "sexual and social history <re.Match object; span=(3146, 3161), match='SOCIAL HISTORY:'>\n",
      "Observation_and_plan <re.Match object; span=(13054, 13064), match='DIAGNOSES:'>\n",
      "medication <re.Match object; span=(2348, 2373), match='MEDICATIONS ON ADMISSION:'>\n",
      "medication <re.Match object; span=(14190, 14215), match='MEDICATIONS ON DISCHARGE:'>\n",
      "allergy <re.Match object; span=(2294, 2304), match='ALLERGIES:'>\n",
      "allergy <re.Match object; span=(2294, 2304), match='ALLERGIES:'>\n",
      "Chief complaint <re.Match object; span=(139, 155), match='CHIEF COMPLAINT:'>\n",
      "Physical Exam <re.Match object; span=(3467, 3487), match='PHYSICAL EXAMINATION'>\n",
      "Present Illness <re.Match object; span=(279, 295), match='PRESENT ILLNESS:'>\n",
      "Present Illness <re.Match object; span=(268, 295), match='HISTORY OF PRESENT ILLNESS:'>\n",
      "pmh <re.Match object; span=(2345, 2353), match='HISTORY:'>\n",
      "pmh <re.Match object; span=(2345, 2353), match='HISTORY:'>\n",
      "pmh <re.Match object; span=(2332, 2353), match='PAST MEDICAL HISTORY:'>\n",
      "pmh <re.Match object; span=(2337, 2353), match='MEDICAL HISTORY:'>\n",
      "family_history <re.Match object; span=(3503, 3518), match='FAMILY HISTORY:'>\n",
      "sexual and social history <re.Match object; span=(3350, 3365), match='SOCIAL HISTORY:'>\n",
      "medication <re.Match object; span=(3190, 3215), match='MEDICATIONS ON ADMISSION:'>\n",
      "allergy <re.Match object; span=(3313, 3323), match='ALLERGIES:'>\n",
      "allergy <re.Match object; span=(3313, 3323), match='ALLERGIES:'>\n",
      "Present Illness <re.Match object; span=(151, 167), match='PRESENT ILLNESS:'>\n",
      "Present Illness <re.Match object; span=(140, 167), match='HISTORY OF PRESENT ILLNESS:'>\n",
      "pmh <re.Match object; span=(3782, 3785), match='pm:'>\n",
      "pmh <re.Match object; span=(2211, 2219), match='History:'>\n",
      "pmh <re.Match object; span=(2211, 2219), match='History:'>\n",
      "pmh <re.Match object; span=(2198, 2219), match='Past Medical History:'>\n",
      "pmh <re.Match object; span=(2203, 2219), match='Medical History:'>\n",
      "family_history <re.Match object; span=(2925, 2940), match='Family History:'>\n",
      "sexual and social history <re.Match object; span=(2764, 2779), match='Social History:'>\n",
      "Observation_and_plan <re.Match object; span=(5905, 5915), match='DIAGNOSIS:'>\n",
      "Observation_and_plan <re.Match object; span=(5905, 5915), match='DIAGNOSIS:'>\n",
      "medication <re.Match object; span=(10644, 10666), match='Discharge Medications:'>\n",
      "medication <re.Match object; span=(10654, 10666), match='Medications:'>\n",
      "medication <re.Match object; span=(10161, 10186), match='Medications on Admission:'>\n",
      "medication <re.Match object; span=(10654, 10666), match='Medications:'>\n",
      "allergy <re.Match object; span=(166, 176), match='Allergies:'>\n",
      "allergy <re.Match object; span=(166, 176), match='Allergies:'>\n",
      "Chief complaint <re.Match object; span=(274, 290), match='Chief Complaint:'>\n",
      "Physical Exam <re.Match object; span=(2982, 3002), match='PHYSICAL EXAMINATION'>\n",
      "Physical Exam <re.Match object; span=(2976, 2981), match='Exam:'>\n",
      "Present Illness <re.Match object; span=(457, 473), match='Present Illness:'>\n",
      "Present Illness <re.Match object; span=(446, 473), match='History of Present Illness:'>\n"
     ]
    }
   ],
   "source": [
    "section_strings = []\n",
    "for text in texts:\n",
    "    for pattern_dict in compiled_patterns:\n",
    "        name = pattern_dict[\"section\"]\n",
    "        sect_patterns = pattern_dict[\"patterns\"]\n",
    "        \n",
    "        for pattern in sect_patterns:\n",
    "            search = pattern.search(text)\n",
    "            if search:\n",
    "                print(name, search)\n",
    "                section_strings.append((name, search.group()))"
   ]
  },
  {
   "cell_type": "code",
   "execution_count": 223,
   "metadata": {},
   "outputs": [],
   "source": [
    "section_strings = list(set(section_strings))"
   ]
  },
  {
   "cell_type": "code",
   "execution_count": 224,
   "metadata": {
    "scrolled": true
   },
   "outputs": [
    {
     "data": {
      "text/plain": [
       "[('pmh', 'PAST SURGICAL HISTORY:'),\n",
       " ('Observation_and_plan', 'DIAGNOSES:'),\n",
       " ('medication', 'MEDICATIONS PRIOR TO ADMISSION:'),\n",
       " ('Observation_and_plan', 'ASSESSMENT AND PLAN:'),\n",
       " ('Present Illness', 'PRESENT ILLNESS:'),\n",
       " ('medication', 'MEDICATIONS:'),\n",
       " ('family_history', 'Family History:'),\n",
       " ('sexual and social history', 'sh:'),\n",
       " ('medication', 'Medications on Admission:'),\n",
       " ('medication', 'MEDICATIONS ON ADMISSION:'),\n",
       " ('Present Illness', 'HISTORY OF PRESENT ILLNESS:'),\n",
       " ('Observation_and_plan', 'Diagnosis:'),\n",
       " ('sexual and social history', 'Social History:'),\n",
       " ('pmh', 'MEDICAL HISTORY:'),\n",
       " ('pmh', 'PAST MEDICAL HISTORY:'),\n",
       " ('pmh', 'Medical History:'),\n",
       " ('family_history', 'FAMILY HISTORY:'),\n",
       " ('medication', 'Medications:'),\n",
       " ('medication', 'MEDICATIONS ON DISCHARGE:'),\n",
       " ('sexual and social history', 'SOCIAL HISTORY:'),\n",
       " ('pmh', 'pm:'),\n",
       " ('pmh', 'History:'),\n",
       " ('Chief complaint', 'CHIEF COMPLAINT:'),\n",
       " ('medication', 'Discharge Medications:'),\n",
       " ('allergy', 'Allergies:'),\n",
       " ('pmh', 'HISTORY:'),\n",
       " ('medication', 'DISCHARGE MEDICATIONS:'),\n",
       " ('allergy', 'ALLERGIES:'),\n",
       " ('Chief complaint', 'Chief Complaint:'),\n",
       " ('Present Illness', 'History of Present Illness:'),\n",
       " ('Observation_and_plan', 'PLAN:'),\n",
       " ('Physical Exam', 'Exam:'),\n",
       " ('Physical Exam', 'PHYSICAL EXAMINATION'),\n",
       " ('allergy', 'allergy'),\n",
       " ('Observation_and_plan', 'DIAGNOSIS:'),\n",
       " ('pmh', 'Past Medical History:'),\n",
       " ('Present Illness', 'Present Illness:')]"
      ]
     },
     "execution_count": 224,
     "metadata": {},
     "output_type": "execute_result"
    }
   ],
   "source": [
    "section_strings"
   ]
  },
  {
   "cell_type": "markdown",
   "metadata": {},
   "source": [
    "# Version 2: SpaCy"
   ]
  },
  {
   "cell_type": "code",
   "execution_count": 225,
   "metadata": {},
   "outputs": [],
   "source": [
    "from spacy.matcher import Matcher, PhraseMatcher"
   ]
  },
  {
   "cell_type": "code",
   "execution_count": 226,
   "metadata": {},
   "outputs": [],
   "source": [
    "def prune_overlapping_matches(matches, strategy=\"longest\"):\n",
    "    if strategy != \"longest\":\n",
    "        raise NotImplementedError()\n",
    "\n",
    "    # Make a copy and sort\n",
    "    unpruned = sorted(matches, key=lambda x: (x[1], x[2]))\n",
    "    pruned = []\n",
    "    num_matches = len(matches)\n",
    "    if num_matches == 0:\n",
    "        return matches\n",
    "    curr_match = unpruned.pop(0)\n",
    "\n",
    "    while True:\n",
    "        if len(unpruned) == 0:\n",
    "            pruned.append(curr_match)\n",
    "            break\n",
    "        next_match = unpruned.pop(0)\n",
    "\n",
    "        # Check if they overlap\n",
    "        if overlaps(curr_match, next_match):\n",
    "            # Choose the larger span\n",
    "            longer_span = max(curr_match, next_match, key=lambda x: (x[2] - x[1]))\n",
    "            pruned.append(longer_span)\n",
    "            if len(unpruned) == 0:\n",
    "                break\n",
    "            curr_match = unpruned.pop(0)\n",
    "        else:\n",
    "            pruned.append(curr_match)\n",
    "            curr_match = next_match\n",
    "    # Recursive base point\n",
    "    if len(pruned) == num_matches:\n",
    "        return pruned\n",
    "    # Recursive function call\n",
    "    else:\n",
    "        return prune_overlapping_matches(pruned)\n",
    "\n",
    "def overlaps(a, b):\n",
    "    if _span_overlaps(a, b) or _span_overlaps(b, a):\n",
    "        return True\n",
    "    return False\n",
    "\n",
    "def _span_overlaps(a, b):\n",
    "    _, a_start, a_end = a\n",
    "    _, b_start, b_end = b\n",
    "    if a_start >= b_start and a_start < b_end:\n",
    "        return True\n",
    "    if a_end > b_start and a_end <= b_end:\n",
    "        return True\n",
    "    return False\n",
    "\n",
    "def matches_to_spans(doc, matches, set_label=True):\n",
    "    spans = []\n",
    "    for (rule_id, start, end) in matches:\n",
    "        if set_label:\n",
    "            label = doc.vocab.strings[rule_id]\n",
    "        else:\n",
    "            label = None\n",
    "        spans.append(Span(doc, start=start, end=end, label=label))\n",
    "    return spans"
   ]
  },
  {
   "cell_type": "code",
   "execution_count": 227,
   "metadata": {},
   "outputs": [],
   "source": [
    "import spacy"
   ]
  },
  {
   "cell_type": "code",
   "execution_count": 133,
   "metadata": {},
   "outputs": [],
   "source": [
    "nlp = spacy.load(\"en_core_web_sm\", disable=\"ner\")"
   ]
  },
  {
   "cell_type": "code",
   "execution_count": 293,
   "metadata": {},
   "outputs": [],
   "source": [
    "class DocSectionizer:\n",
    "    name = \"sectionizer\"\n",
    "    def __init__(self, nlp):\n",
    "        self.nlp = nlp\n",
    "        self.matcher = Matcher(nlp.vocab)\n",
    "        self.phrase_matcher = PhraseMatcher(nlp.vocab, attr=\"LOWER\")\n",
    "        \n",
    "        self.rules = []\n",
    "        \n",
    "    def add(self, patterns):\n",
    "        for pattern_dict in patterns:\n",
    "            name = pattern_dict[\"name\"]\n",
    "            pattern = pattern_dict[\"pattern\"]\n",
    "            if isinstance(pattern, str):\n",
    "                self.phrase_matcher.add(name, None, self.nlp.make_doc(pattern))\n",
    "            else:\n",
    "                self.matcher.add(name, pattern)\n",
    "\n",
    "    def __call__(self, doc):\n",
    "        matches = self.matcher(doc)\n",
    "        \n",
    "        matches += self.phrase_matcher(doc)\n",
    "        \n",
    "        matches = prune_overlapping_matches(matches)\n",
    "        if len(matches) == 0:\n",
    "            return doc\n",
    "        \n",
    "        first_match = matches[0]\n",
    "        section_spans = []\n",
    "        if first_match[1] != 0:\n",
    "            section_spans.append((None, None, doc[0:first_match[1]]))\n",
    "        for i, match in enumerate(matches):\n",
    "            (match_id, start, end) = match\n",
    "            section_header = doc[start:end]\n",
    "            name = self.nlp.vocab.strings[match_id]\n",
    "            if i == len(matches) - 1:\n",
    "                section_spans.append((name, section_header, doc[start:]))\n",
    "            else:\n",
    "                next_match = matches[i+1]\n",
    "                _, next_start, _ = next_match\n",
    "                section_spans.append((name, section_header, doc[start:next_start]))\n",
    "        for name, header, section in section_spans:\n",
    "            doc._.sections.append((name, header, section))\n",
    "            for token in section:\n",
    "                token._.section = section\n",
    "                token._.section_name = name\n",
    "                token._.section_header = header\n",
    "        return doc"
   ]
  },
  {
   "cell_type": "code",
   "execution_count": 259,
   "metadata": {},
   "outputs": [],
   "source": [
    "from spacy.tokens import Doc, Span, Token"
   ]
  },
  {
   "cell_type": "code",
   "execution_count": 260,
   "metadata": {},
   "outputs": [],
   "source": [
    "def get_sections(doc):\n",
    "    sections = []\n",
    "    for (section_name, (start, end)) in doc._.section_spans:\n",
    "        sections.append((section_name, doc[start:end]))\n",
    "    return sections"
   ]
  },
  {
   "cell_type": "code",
   "execution_count": 261,
   "metadata": {},
   "outputs": [],
   "source": [
    "Doc.set_extension(\"sections\", default=list(), force=True)\n",
    "\n",
    "Token.set_extension(\"section\", default=None, force=True)\n",
    "Token.set_extension(\"section_name\", default=None, force=True)\n",
    "Token.set_extension(\"section_header\", default=None, force=True)\n",
    "\n",
    "Span.set_extension(\"section\", getter=lambda x: x[0]._.section, force=True)\n",
    "Span.set_extension(\"section_name\", getter=lambda x: x[0]._.section_name, force=True)\n",
    "Span.set_extension(\"section_header\", getter=lambda x: x[0]._.section_header, force=True)"
   ]
  },
  {
   "cell_type": "code",
   "execution_count": 262,
   "metadata": {},
   "outputs": [],
   "source": [
    "doc = nlp(text)"
   ]
  },
  {
   "cell_type": "code",
   "execution_count": 263,
   "metadata": {},
   "outputs": [],
   "source": [
    "section_spacy_patterns = [{\"name\": name, \"pattern\": pattern}\n",
    "                         for (name, pattern) in section_strings]"
   ]
  },
  {
   "cell_type": "code",
   "execution_count": 264,
   "metadata": {},
   "outputs": [],
   "source": [
    "sectionizer = DocSectionizer(nlp)"
   ]
  },
  {
   "cell_type": "code",
   "execution_count": 265,
   "metadata": {},
   "outputs": [],
   "source": [
    "sectionizer.add(section_spacy_patterns)"
   ]
  },
  {
   "cell_type": "code",
   "execution_count": 266,
   "metadata": {},
   "outputs": [],
   "source": [
    "doc = sectionizer(doc)"
   ]
  },
  {
   "cell_type": "code",
   "execution_count": 269,
   "metadata": {},
   "outputs": [],
   "source": [
    "def get_section(section_name, doc):\n",
    "    return [(name, header, section) for (name, header, section)\n",
    "           in doc._.sections if name == section_name]\n",
    "        "
   ]
  },
  {
   "cell_type": "code",
   "execution_count": 272,
   "metadata": {
    "scrolled": true
   },
   "outputs": [
    {
     "data": {
      "text/plain": [
       "[('pmh', Past Medical History:, Past Medical History:),\n",
       " ('pmh', PAST MEDICAL HISTORY:, PAST MEDICAL HISTORY:  \n",
       "  1. ESRD secondary to hypertensive nephrosclerosis s/p right \n",
       "  upper extremity AV graft 9'[**61**]'[**38**] in preparation for dialysis. \n",
       "  Graft placement was complicated by cellulitis, for which he was \n",
       "  treated with keflex  \n",
       "  2. DM, on glyburide and glipizide at home  \n",
       "  3. HTN, on clonidine, lisinopril, nifedipine  \n",
       "  4. PVD s/p aortic bypass  \n",
       "  5. CVA, with residual weakness of his left side  \n",
       "  6. R CEA  \n",
       "  7. Secondary hyperparathyroidism  \n",
       "  8. Chronic anemia on procrit injections  \n",
       "  9. Prostate CA on Lupron  \n",
       "  10. Gout  \n",
       "  \n",
       "   ),\n",
       " ('pmh', pm:, pm: read pending  \n",
       "  .\n",
       "  [**3138-10-30**] Cath\n",
       "  COMMENTS:      \n",
       "  1. Right heart catheterization revealed elevated right and left \n",
       "  sided \n",
       "  pressures. (PCWP = 25 mmhg). \n",
       "  2. Left heart catheterization revealed no evidence of systolic \n",
       "  hypertension.  Calculated cardiac output and index were 5.0/2.8. \n",
       "  \n",
       "  3. Selective coronary angiography of this right dominant system \n",
       "  revealed \n",
       "  three vessel coronary artery disease.  The left main coronary \n",
       "  artery had \n",
       "  a 40% mid-vessel stenosis.  The left anterior descending artery \n",
       "  had \n",
       "  diffuse proximal disease with serial 70-80% stenosis.  The left \n",
       "  anterior \n",
       "  descending had mild diffuse disease in the mid and distal \n",
       "  segments.  The \n",
       "  large first diagonal had an 80% proximal lesion.  The left \n",
       "  circumflex \n",
       "  coronary artery had mild diffuse disease in the proximal, mid, \n",
       "  and \n",
       "  distal segments.  There was a subtotal occlusion of the OM1.  \n",
       "  The right \n",
       "  coronary artery was the dominant vessel.  There was total \n",
       "  occlusion of \n",
       "  the right coronary artery in the proximal segment.  The distal \n",
       "  RCA \n",
       "  filled via collaterals from the LCA septal branches. \n",
       "  4. No left ventriculography was undertaken given elevated Cr. \n",
       "  5. Successful predilation using 2.0 X 12 sprinter balloon and \n",
       "  stenting \n",
       "  using a minivision 2.5 X 23 stent of the proximal OM1 with \n",
       "  lesion \n",
       "  reduction from 99 to 0% \n",
       "  6. Successful predilaton using a 2.0 X 20 Maverick balloon and \n",
       "  stenting \n",
       "  using 3.0 X 30 Driver stent of the proximal LAD with lesion \n",
       "  reduction \n",
       "  from 80% to 0%. \n",
       "  7. Successful predilation using 2.0 X 12 sprinter balloon and \n",
       "  stenting \n",
       "  using a 2.25 X 15 minivision stent of the proximal D1 with \n",
       "  lesion \n",
       "  reduction from 80% to 0%. The final angiogram showed TIMI III \n",
       "  flow in \n",
       "  the vessels intervened with no residual stenoses in any of the \n",
       "  stents. \n",
       "  Thre was no distal embolisation or dissection noted in any \n",
       "  vessel. \n",
       "  8. Successful insertion of IABP via right femoral artery. \n",
       "  ( see PTCA comments for the above procdures from 5 through to 8) \n",
       "  \n",
       "  9. At the request of the renal consultants, a 12 French Dialysis \n",
       "  central \n",
       "  venous catheter was placed using the Seldinger technique in the \n",
       "  left \n",
       "  common femoral vein. \n",
       "    \n",
       "  FINAL)]"
      ]
     },
     "execution_count": 272,
     "metadata": {},
     "output_type": "execute_result"
    }
   ],
   "source": [
    "get_section(\"pmh\", doc)"
   ]
  },
  {
   "cell_type": "code",
   "execution_count": null,
   "metadata": {},
   "outputs": [],
   "source": []
  },
  {
   "cell_type": "code",
   "execution_count": null,
   "metadata": {},
   "outputs": [],
   "source": []
  },
  {
   "cell_type": "markdown",
   "metadata": {},
   "source": [
    "# Demo"
   ]
  },
  {
   "cell_type": "code",
   "execution_count": 300,
   "metadata": {},
   "outputs": [],
   "source": [
    "text = \"\"\"\n",
    "Family History:\n",
    "Diabetes\n",
    "\n",
    "Past Medical History:\n",
    "Pneumonia\n",
    "\n",
    "Assessment and Plan:\n",
    "Atrial fibrillation. There is no evidence of pneumonia.\n",
    "\"\"\""
   ]
  },
  {
   "cell_type": "code",
   "execution_count": 275,
   "metadata": {},
   "outputs": [],
   "source": [
    "import os, sys"
   ]
  },
  {
   "cell_type": "code",
   "execution_count": 276,
   "metadata": {},
   "outputs": [],
   "source": [
    "sys.path.append(\"../../nlp_tools/\")"
   ]
  },
  {
   "cell_type": "code",
   "execution_count": null,
   "metadata": {},
   "outputs": [],
   "source": []
  },
  {
   "cell_type": "code",
   "execution_count": 277,
   "metadata": {},
   "outputs": [],
   "source": [
    "import nlp_tools"
   ]
  },
  {
   "cell_type": "code",
   "execution_count": 283,
   "metadata": {},
   "outputs": [],
   "source": [
    "nlp = nlp_tools.build_nlp()"
   ]
  },
  {
   "cell_type": "code",
   "execution_count": 280,
   "metadata": {},
   "outputs": [
    {
     "data": {
      "text/plain": [
       "['tagger', 'parser', 'target_matcher', 'context', 'postprocessor']"
      ]
     },
     "execution_count": 280,
     "metadata": {},
     "output_type": "execute_result"
    }
   ],
   "source": [
    "nlp.pipe_names"
   ]
  },
  {
   "cell_type": "code",
   "execution_count": 285,
   "metadata": {},
   "outputs": [],
   "source": [
    "target_matcher = nlp.get_pipe('target_matcher')"
   ]
  },
  {
   "cell_type": "code",
   "execution_count": 287,
   "metadata": {},
   "outputs": [],
   "source": [
    "target_rules = [\n",
    "    nlp_tools.TargetRule(\"diabetes\", \"PROBLEM\"),\n",
    "    nlp_tools.TargetRule(\"pneumonia\", \"PROBLEM\"),\n",
    "    nlp_tools.TargetRule(\"atrial fibrillation\", \"PROBLEM\"),\n",
    "]"
   ]
  },
  {
   "cell_type": "code",
   "execution_count": 288,
   "metadata": {},
   "outputs": [
    {
     "data": {
      "text/plain": [
       "[<nlp_tools.target_matcher.target_rule.TargetRule at 0x127c653c8>,\n",
       " <nlp_tools.target_matcher.target_rule.TargetRule at 0x127c65400>,\n",
       " <nlp_tools.target_matcher.target_rule.TargetRule at 0x127c65438>]"
      ]
     },
     "execution_count": 288,
     "metadata": {},
     "output_type": "execute_result"
    }
   ],
   "source": [
    "target_rules"
   ]
  },
  {
   "cell_type": "code",
   "execution_count": 289,
   "metadata": {},
   "outputs": [],
   "source": [
    "target_matcher.add(target_rules)"
   ]
  },
  {
   "cell_type": "code",
   "execution_count": 294,
   "metadata": {},
   "outputs": [],
   "source": [
    "sectionizer = DocSectionizer(nlp)"
   ]
  },
  {
   "cell_type": "code",
   "execution_count": 295,
   "metadata": {},
   "outputs": [],
   "source": [
    "section_rules = [\n",
    "    {\"name\": \"family_history\", \"pattern\": \"Family History:\"},\n",
    "    {\"name\": \"past_medical_history\", \"pattern\": \"Past Medical History:\"},\n",
    "    {\"name\": \"assessment_and_plan\", \"pattern\": \"Assessment and Plan:\"},\n",
    "]"
   ]
  },
  {
   "cell_type": "code",
   "execution_count": 296,
   "metadata": {},
   "outputs": [],
   "source": [
    "sectionizer.add(section_rules)"
   ]
  },
  {
   "cell_type": "code",
   "execution_count": 297,
   "metadata": {},
   "outputs": [],
   "source": [
    "nlp.add_pipe(sectionizer, after=\"parser\")"
   ]
  },
  {
   "cell_type": "code",
   "execution_count": 298,
   "metadata": {},
   "outputs": [
    {
     "data": {
      "text/plain": [
       "['tagger',\n",
       " 'parser',\n",
       " 'sectionizer',\n",
       " 'ner',\n",
       " 'target_matcher',\n",
       " 'context',\n",
       " 'postprocessor']"
      ]
     },
     "execution_count": 298,
     "metadata": {},
     "output_type": "execute_result"
    }
   ],
   "source": [
    "nlp.pipe_names"
   ]
  },
  {
   "cell_type": "code",
   "execution_count": 301,
   "metadata": {},
   "outputs": [],
   "source": [
    "postprocessor = nlp.get_pipe(\"postprocessor\")"
   ]
  },
  {
   "cell_type": "code",
   "execution_count": 306,
   "metadata": {},
   "outputs": [],
   "source": [
    "def set_is_family(ent, i, value=True):\n",
    "    ent._.is_family = value\n",
    "    \n",
    "def set_is_historical(ent, i, value=True):\n",
    "    ent._.is_historical = value"
   ]
  },
  {
   "cell_type": "code",
   "execution_count": 303,
   "metadata": {},
   "outputs": [],
   "source": [
    "import cycontext"
   ]
  },
  {
   "cell_type": "code",
   "execution_count": 305,
   "metadata": {},
   "outputs": [
    {
     "data": {
      "text/plain": [
       "{'NEGATED_EXISTENCE': {'is_negated': True},\n",
       " 'POSSIBLE_EXISTENCE': {'is_uncertain': True},\n",
       " 'HISTORICAL': {'is_historical': True},\n",
       " 'HYPOTHETICAL': {'is_hypothetical': True},\n",
       " 'FAMILY': {'is_family': True}}"
      ]
     },
     "execution_count": 305,
     "metadata": {},
     "output_type": "execute_result"
    }
   ],
   "source": [
    "cycontext.context_component.DEFAULT_ATTRS"
   ]
  },
  {
   "cell_type": "code",
   "execution_count": 307,
   "metadata": {},
   "outputs": [],
   "source": [
    "postprocess_rules = [\n",
    "    nlp_tools.PostprocessingRule(\n",
    "        patterns=[\n",
    "            nlp_tools.PostprocessingPattern(lambda ent: ent._.section_name == \"family_history\"),\n",
    "        ],\n",
    "        action=set_is_family\n",
    "    ),\n",
    "    nlp_tools.PostprocessingRule(\n",
    "        patterns=[\n",
    "            nlp_tools.PostprocessingPattern(lambda ent: ent._.section_name == \"past_medical_history\"),\n",
    "        ],\n",
    "        action=set_is_historical\n",
    "    ),\n",
    "]"
   ]
  },
  {
   "cell_type": "code",
   "execution_count": 308,
   "metadata": {},
   "outputs": [],
   "source": [
    "postprocessor.add(postprocess_rules)"
   ]
  },
  {
   "cell_type": "code",
   "execution_count": 309,
   "metadata": {},
   "outputs": [],
   "source": [
    "doc = nlp(text)"
   ]
  },
  {
   "cell_type": "code",
   "execution_count": 313,
   "metadata": {},
   "outputs": [
    {
     "data": {
      "text/plain": [
       "(Diabetes, Pneumonia, Atrial fibrillation, pneumonia)"
      ]
     },
     "execution_count": 313,
     "metadata": {},
     "output_type": "execute_result"
    }
   ],
   "source": [
    "doc.ents"
   ]
  },
  {
   "cell_type": "code",
   "execution_count": 318,
   "metadata": {},
   "outputs": [
    {
     "data": {
      "text/plain": [
       "[Past, Medical, History, :]"
      ]
     },
     "execution_count": 318,
     "metadata": {},
     "output_type": "execute_result"
    }
   ],
   "source": [
    "list(nlp(\"Past Medical History:\"))"
   ]
  },
  {
   "cell_type": "code",
   "execution_count": 317,
   "metadata": {},
   "outputs": [
    {
     "name": "stdout",
     "output_type": "stream",
     "text": [
      "None\n",
      "None\n",
      "\n",
      "\n",
      "---------------\n",
      "family_history\n",
      "Family History:\n",
      "Family History:\n",
      "Diabetes\n",
      "\n",
      "\n",
      "---------------\n",
      "past_medical_history\n",
      "Past Medical History:\n",
      "Past Medical History:\n",
      "Pneumonia\n",
      "\n",
      "\n",
      "---------------\n",
      "assessment_and_plan\n",
      "Assessment and Plan:\n",
      "Assessment and Plan:\n",
      "Atrial fibrillation. There is no evidence of pneumonia.\n",
      "\n",
      "---------------\n"
     ]
    }
   ],
   "source": [
    "for (section_name, section_header, section) in doc._.sections:\n",
    "    print(section_name, section_header, section, sep=\"\\n\")\n",
    "    print(\"---\"*5)"
   ]
  },
  {
   "cell_type": "code",
   "execution_count": 312,
   "metadata": {},
   "outputs": [
    {
     "name": "stdout",
     "output_type": "stream",
     "text": [
      "Diabetes False False True\n",
      "Pneumonia False True False\n",
      "Atrial fibrillation False False False\n",
      "pneumonia True False False\n"
     ]
    }
   ],
   "source": [
    "for ent in doc.ents:\n",
    "    print(ent, ent._.is_negated, ent._.is_historical, ent._.is_family)"
   ]
  },
  {
   "cell_type": "code",
   "execution_count": 314,
   "metadata": {},
   "outputs": [
    {
     "name": "stdout",
     "output_type": "stream",
     "text": [
      "Diabetes family_history\n",
      "Pneumonia past_medical_history\n",
      "Atrial fibrillation assessment_and_plan\n",
      "pneumonia assessment_and_plan\n"
     ]
    }
   ],
   "source": [
    "for ent in doc.ents:\n",
    "    print(ent, ent._.section_name)"
   ]
  },
  {
   "cell_type": "code",
   "execution_count": null,
   "metadata": {},
   "outputs": [],
   "source": []
  }
 ],
 "metadata": {
  "kernelspec": {
   "display_name": "Python 3",
   "language": "python",
   "name": "python3"
  },
  "language_info": {
   "codemirror_mode": {
    "name": "ipython",
    "version": 3
   },
   "file_extension": ".py",
   "mimetype": "text/x-python",
   "name": "python",
   "nbconvert_exporter": "python",
   "pygments_lexer": "ipython3",
   "version": "3.7.3"
  }
 },
 "nbformat": 4,
 "nbformat_minor": 2
}
