{
 "cells": [
  {
   "cell_type": "code",
   "execution_count": 1,
   "metadata": {},
   "outputs": [],
   "source": [
    "from add_parent_path import add_parent_path\n",
    "\n",
    "with add_parent_path(1):\n",
    "    from clinical_sectionizer import TextSectionizer"
   ]
  },
  {
   "cell_type": "code",
   "execution_count": 14,
   "metadata": {},
   "outputs": [],
   "source": [
    "text = \"\"\"\n",
    "     FINDINGS:  Compared to the prior days study, there is stable appearance of the\n",
    "     right parietal intraparenchymal hemorrhage with surrounding edema.  At the\n",
    "     superior margin of the parenchymal hemorrhage there is a rounded heterogeneous\n",
    "     focus which could represent a metastatic lesion.  An additional 2mm hyperdense\n",
    "     focus, possibly hemorrhage, is noted in the posteromedial margin of the left\n",
    "     thalamus, with surroundng edema.  Low-attenuation foci seen in both basal\n",
    "     ganglia and insular regions are consistent with chronic lacunar infarcts.\n",
    "     There is no shift of midline structures.  The ventricles are stable in\n",
    "     appearance.  The osseous and soft tissue structures are unremarkable.\n",
    "     \n",
    "     IMPRESSION:  Stable appearance of right parietal lobe and left thalamic\n",
    "     hemorrhages, which are concerning for hemorrhagic metastasis in this patient\n",
    "     with known metastatic lung carcinoma to the brain.\"\"\""
   ]
  },
  {
   "cell_type": "markdown",
   "metadata": {},
   "source": [
    "#### By default section detection is done ignoring case (`re.I`)"
   ]
  },
  {
   "cell_type": "code",
   "execution_count": 23,
   "metadata": {},
   "outputs": [],
   "source": [
    "sectionizer = TextSectionizer(patterns=None)\n",
    "\n",
    "rad_patterns = [{'section_title': 'impression', \n",
    "                 'pattern':'impression:'},]\n",
    "\n",
    "sectionizer.add(rad_patterns)\n",
    "sections = sectionizer(text)"
   ]
  },
  {
   "cell_type": "markdown",
   "metadata": {},
   "source": [
    "#### Text is split into two parts: before and after section"
   ]
  },
  {
   "cell_type": "code",
   "execution_count": 25,
   "metadata": {},
   "outputs": [
    {
     "data": {
      "text/plain": [
       "2"
      ]
     },
     "execution_count": 25,
     "metadata": {},
     "output_type": "execute_result"
    }
   ],
   "source": [
    "len(sections)"
   ]
  },
  {
   "cell_type": "code",
   "execution_count": 26,
   "metadata": {},
   "outputs": [
    {
     "data": {
      "text/plain": [
       "('impression',\n",
       " 'IMPRESSION:',\n",
       " 'IMPRESSION:  Stable appearance of right parietal lobe and left thalamic\\n     hemorrhages, which are concerning for hemorrhagic metastasis in this patient\\n     with known metastatic lung carcinoma to the brain.')"
      ]
     },
     "execution_count": 26,
     "metadata": {},
     "output_type": "execute_result"
    }
   ],
   "source": [
    "sections[1]"
   ]
  },
  {
   "cell_type": "markdown",
   "metadata": {},
   "source": [
    "#### Create regular expression without `re.I` flag"
   ]
  },
  {
   "cell_type": "code",
   "execution_count": 27,
   "metadata": {},
   "outputs": [],
   "source": [
    "sectionizer = TextSectionizer(patterns=None)\n",
    "\n",
    "rad_patterns = [{'section_title': 'impression', \n",
    "                 'pattern':'impression:'},]\n",
    "\n",
    "sectionizer.add(rad_patterns, cflags=[])\n",
    "sections = sectionizer(text)"
   ]
  },
  {
   "cell_type": "markdown",
   "metadata": {},
   "source": [
    "#### Section not detected\n",
    "\n",
    "Only one section in result"
   ]
  },
  {
   "cell_type": "code",
   "execution_count": 29,
   "metadata": {},
   "outputs": [
    {
     "data": {
      "text/plain": [
       "1"
      ]
     },
     "execution_count": 29,
     "metadata": {},
     "output_type": "execute_result"
    }
   ],
   "source": [
    "len(sections)"
   ]
  },
  {
   "cell_type": "code",
   "execution_count": null,
   "metadata": {},
   "outputs": [],
   "source": []
  }
 ],
 "metadata": {
  "kernelspec": {
   "display_name": "Python 3",
   "language": "python",
   "name": "python3"
  },
  "language_info": {
   "codemirror_mode": {
    "name": "ipython",
    "version": 3
   },
   "file_extension": ".py",
   "mimetype": "text/x-python",
   "name": "python",
   "nbconvert_exporter": "python",
   "pygments_lexer": "ipython3",
   "version": "3.7.3"
  }
 },
 "nbformat": 4,
 "nbformat_minor": 4
}
